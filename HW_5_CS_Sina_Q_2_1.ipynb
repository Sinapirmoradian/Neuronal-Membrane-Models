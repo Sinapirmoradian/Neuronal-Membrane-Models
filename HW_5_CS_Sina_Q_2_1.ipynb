{
  "nbformat": 4,
  "nbformat_minor": 0,
  "metadata": {
    "colab": {
      "provenance": []
    },
    "kernelspec": {
      "name": "python3",
      "display_name": "Python 3"
    },
    "language_info": {
      "name": "python"
    }
  },
  "cells": [
    {
      "cell_type": "code",
      "source": [
        "from google.colab import drive\n",
        "drive.mount ('/content/drive')"
      ],
      "metadata": {
        "id": "wq58mGwtPUZm",
        "colab": {
          "base_uri": "https://localhost:8080/"
        },
        "outputId": "deea8906-332f-4461-875b-9968f2bf7a7d"
      },
      "execution_count": null,
      "outputs": [
        {
          "output_type": "stream",
          "name": "stdout",
          "text": [
            "Mounted at /content/drive\n"
          ]
        }
      ]
    },
    {
      "cell_type": "code",
      "source": [
        "# Assuming your files are located in the following paths:\n",
        "models_path = '/content/drive/MyDrive/HW_5_CS/models.py'\n",
        "\n",
        "# Import the files\n",
        "import sys\n",
        "sys.path.append('/content/drive/MyDrive/HW_5_CS')\n",
        "\n",
        "# Now you can import your models and utils as if they were in the Colab environment\n",
        "import  models"
      ],
      "metadata": {
        "id": "9WmEdJAwQPzj"
      },
      "execution_count": null,
      "outputs": []
    },
    {
      "cell_type": "code",
      "source": [
        "import os\n",
        "import shutil\n",
        "import numpy as np\n",
        "import matplotlib.pyplot as plt\n",
        "from scipy.integrate import solve_ivp\n",
        "\n",
        "from models import *\n",
        "\n",
        "save_figures = True\n",
        "save_dir = './Report/figs'\n",
        "questions_number = '2_1'\n",
        "if save_figures:\n",
        "    if not os.path.exists(save_dir):\n",
        "        os.makedirs(save_dir, exist_ok=True)"
      ],
      "metadata": {
        "id": "mrAmiBM3ROTt"
      },
      "execution_count": null,
      "outputs": []
    },
    {
      "cell_type": "markdown",
      "source": [
        "Part_1"
      ],
      "metadata": {
        "id": "qy-RIRkRRQPz"
      }
    },
    {
      "cell_type": "code",
      "execution_count": null,
      "metadata": {
        "id": "TD4rA8DJLmRr"
      },
      "outputs": [],
      "source": [
        "ml_model = MorrisLecarModel()\n",
        "hh_model = HodgkinHuxleyModel()\n",
        "\n",
        "t_start = 0\n",
        "t_end = 300\n",
        "dt = 0.01\n",
        "t = np.arange(t_start, t_end, dt)\n",
        "\n",
        "input_current = lambda t: 95 if t>=20 else 0.0\n",
        "\n",
        "sol_ml = solve_ivp(\n",
        "    lambda t, Y: ml_model(Y, I=input_current(t)),\n",
        "    t_span=[t_start, t_end],\n",
        "    y0=ml_model.get_initial_state(),\n",
        "    t_eval=t,\n",
        "    vectorized=True,\n",
        "    method = 'RK23',\n",
        ")\n",
        "\n",
        "V, w = sol_ml.y\n",
        "I_Ca, I_K, I_L = ml_model.get_currents(*sol_ml.y)\n",
        "\n",
        "k = 0\n",
        "\n",
        "fig, ax = plt.subplots(nrows=2, ncols=2, sharex=True, figsize=(12.8, 4.8))\n",
        "ax[0,0].plot(sol_ml.t, np.vectorize(input_current)(sol_ml.t))\n",
        "ax[0,0].set_xlabel('$t\\;[m\\mathrm{s}]$')\n",
        "ax[0,0].set_ylabel('$I\\;[\\mu\\mathrm{A}/c\\mathrm{m}^2]$')\n",
        "ax[0,0].set_title('Input Current')\n",
        "ax[0,0].grid()\n",
        "ax[0,1].plot(sol_ml.t, V)\n",
        "ax[0,1].set_ylim([-90,70])\n",
        "ax[0,1].set_xlabel('$t\\;[m\\mathrm{s}]$')\n",
        "ax[0,1].set_ylabel('$V\\;[m\\mathrm{V}]$')\n",
        "ax[0,1].set_title('Membrane Voltage')\n",
        "ax[0,1].grid()\n",
        "ax[1,0].plot(sol_ml.t, I_Ca, label='$I_\\mathrm{Ca}$')\n",
        "ax[1,0].plot(sol_ml.t, I_K, label='$I_\\mathrm{K}$')\n",
        "ax[1,0].plot(sol_ml.t, I_L, label='$I_\\mathrm{L}$')\n",
        "ax[1,0].set_xlabel('$t\\;[m\\mathrm{s}]$')\n",
        "ax[1,0].set_ylabel('$I\\;[\\mu\\mathrm{A}/c\\mathrm{m}^2]$')\n",
        "ax[1,0].set_title('Ion and leak currents')\n",
        "ax[1,0].legend(loc='lower right')\n",
        "ax[1,0].grid()\n",
        "ax[1,1].plot(sol_ml.t, w, label='$w$')\n",
        "ax[1,1].set_ylim([-0.1,1.1])\n",
        "ax[1,1].set_xlabel('$t\\;[m\\mathrm{s}]$')\n",
        "ax[1,1].set_title('Gating Variables')\n",
        "ax[1,1].legend(loc='lower right')\n",
        "ax[1,1].grid()\n",
        "fig.suptitle('Moris-Lecar Model Step Response')\n",
        "plt.tight_layout()\n",
        "if save_figures:\n",
        "    plt.savefig(f'{save_dir}/{questions_number}_1_{k}.png')\n",
        "    k += 1\n",
        "\n",
        "plt.figure()\n",
        "plt.plot(V, w)\n",
        "plt.xlabel('$V\\;[m\\mathrm{V}]$')\n",
        "plt.ylabel('$w$ (Potassium gating variable)')\n",
        "plt.title('Phase portrait of the Moris-Lecar model ($w$-$V$)')\n",
        "plt.grid()\n",
        "if save_figures:\n",
        "    plt.savefig(f'{save_dir}/{questions_number}_1_{k}.png')\n",
        "    k += 1\n",
        "\n",
        "input_current = lambda t: 8 if t>=20 else 0.0\n",
        "\n",
        "sol_hh = solve_ivp(\n",
        "    lambda t, Y: hh_model(Y, I=input_current(t)),\n",
        "    t_span=[t_start, t_end],\n",
        "    y0=hh_model.get_initial_state(),\n",
        "    t_eval=t,\n",
        "    vectorized=True,\n",
        "    method = 'RK23',\n",
        ")\n",
        "\n",
        "V, n, m, h = sol_hh.y\n",
        "I_Na, I_K, I_L = hh_model.get_currents(*sol_hh.y)\n",
        "\n",
        "fig, ax = plt.subplots(nrows=2, ncols=2, sharex=True, figsize=(12.8, 4.8))\n",
        "ax[0,0].plot(sol_hh.t, np.vectorize(input_current)(sol_hh.t))\n",
        "ax[0,0].set_xlabel('$t\\;[m\\mathrm{s}]$')\n",
        "ax[0,0].set_ylabel('$I\\;[\\mu\\mathrm{A}/c\\mathrm{m}^2]$')\n",
        "ax[0,0].set_title('Input Current')\n",
        "ax[0,0].grid()\n",
        "ax[0,1].plot(sol_hh.t, V)\n",
        "ax[0,1].set_ylim([-90,70])\n",
        "ax[0,1].set_xlabel('$t\\;[m\\mathrm{s}]$')\n",
        "ax[0,1].set_ylabel('$V\\;[m\\mathrm{V}]$')\n",
        "ax[0,1].set_title('Membrane Voltage')\n",
        "ax[0,1].grid()\n",
        "ax[1,0].plot(sol_hh.t, I_Na, label='$I_\\mathrm{Ca}$')\n",
        "ax[1,0].plot(sol_hh.t, I_K, label='$I_\\mathrm{K}$')\n",
        "ax[1,0].plot(sol_hh.t, I_L, label='$I_\\mathrm{L}$')\n",
        "ax[1,0].set_xlabel('$t\\;[m\\mathrm{s}]$')\n",
        "ax[1,0].set_ylabel('$I\\;[\\mu\\mathrm{A}/c\\mathrm{m}^2]$')\n",
        "ax[1,0].set_title('Ion and leak currents')\n",
        "ax[1,0].legend(loc='lower right')\n",
        "ax[1,0].grid()\n",
        "ax[1,1].plot(sol_hh.t, n, label='$n$')\n",
        "ax[1,1].plot(sol_hh.t, m, label='$m$')\n",
        "ax[1,1].plot(sol_hh.t, h, label='$h$')\n",
        "ax[1,1].set_ylim([-0.1,1.1])\n",
        "ax[1,1].set_xlabel('$t\\;[m\\mathrm{s}]$')\n",
        "ax[1,1].set_title('Gating Variables')\n",
        "ax[1,1].legend(loc='lower right')\n",
        "ax[1,1].grid()\n",
        "fig.suptitle('Hodgkin-Huxley Model Step Response')\n",
        "plt.tight_layout()\n",
        "if save_figures:\n",
        "    plt.savefig(f'{save_dir}/{questions_number}_1_{k}.png')\n",
        "    k += 1\n",
        "\n",
        "plt.figure()\n",
        "plt.plot(V, n, label='$n$ (Pottasium gating variable)')\n",
        "plt.plot(V, m, label='$m$ (Sodium gating variable)')\n",
        "plt.plot(V, h, label='$h$ (Sodium gating variable)')\n",
        "plt.xlabel('$V\\;[m\\mathrm{V}]$')\n",
        "plt.ylabel('Gating Variables')\n",
        "plt.title('Phase portrait of the Hodgkin-Huxley model')\n",
        "plt.legend()\n",
        "plt.grid()\n",
        "if save_figures:\n",
        "    plt.savefig(f'{save_dir}/{questions_number}_1_{k}.png')\n",
        "    k += 1"
      ]
    },
    {
      "cell_type": "markdown",
      "source": [
        "Part_2"
      ],
      "metadata": {
        "id": "E4FqaplORT9M"
      }
    },
    {
      "cell_type": "code",
      "source": [
        "V_hh, n_hh, _, _ = sol_hh.y\n",
        "V_ml, w_ml = sol_ml.y\n",
        "\n",
        "k = 0\n",
        "\n",
        "plt.figure()\n",
        "plt.plot(V_hh, n_hh, label='$n$ (Potassium gating variable HH model)', color='C1')\n",
        "plt.plot(V_ml, w_ml, label='$w$ (Potassium gating variable ML model)', color='C0')\n",
        "plt.xlabel('$V\\;[m\\mathrm{V}]$')\n",
        "plt.ylabel('Gating Variables')\n",
        "plt.title('Phase portrait of the HH and ML model')\n",
        "plt.legend()\n",
        "plt.grid()\n",
        "if save_figures:\n",
        "    plt.savefig(f'{save_dir}/{questions_number}_2_{k}.png')\n",
        "    k += 1\n",
        "\n",
        "plt.show()"
      ],
      "metadata": {
        "id": "u7J-x8Q9SU93"
      },
      "execution_count": null,
      "outputs": []
    }
  ]
}